{
  "cells": [
    {
      "cell_type": "markdown",
      "metadata": {},
      "source": [
        "---\n",
        "title: \"팔머펭귄 종별 특징 분석 _ 5조(김예원, 박한슬, 송성필)\"\n",
        "author: \"song seong pil\"\n",
        "date: \"2025-03-07\"\n",
        "categories: [news, code, analysis]\n",
        "image: \"penguin.jpg\"\n",
        "---"
      ],
      "id": "f3177030"
    },
    {
      "cell_type": "code",
      "metadata": {},
      "source": [
        "import numpy as np\n",
        "import pandas as pd\n",
        "import matplotlib.pyplot as plt\n",
        "from palmerpenguins import load_penguins"
      ],
      "id": "ee1034e9",
      "execution_count": null,
      "outputs": []
    },
    {
      "cell_type": "markdown",
      "metadata": {},
      "source": [
        "# 1. 데이터 불러오기 및 기본 정보 출력"
      ],
      "id": "d972c17f"
    },
    {
      "cell_type": "code",
      "metadata": {},
      "source": [
        "penguins = load_penguins()\n",
        "penguins.info()"
      ],
      "id": "47eaf877",
      "execution_count": null,
      "outputs": []
    },
    {
      "cell_type": "markdown",
      "metadata": {},
      "source": [
        "# 2. 결측치 제거 및 종별 통계량 계산"
      ],
      "id": "b25cd1d8"
    },
    {
      "cell_type": "code",
      "metadata": {},
      "source": [
        "penguins = penguins.dropna()\n",
        "summary = penguins.groupby('species')[['bill_length_mm', 'bill_depth_mm', 'flipper_length_mm', 'body_mass_g']]\n",
        "stats = summary.agg(['min', 'max', 'median', 'mean'])\n",
        "\n",
        "print(\"Species별 통계량:\")\n",
        "print(stats)"
      ],
      "id": "57d964fa",
      "execution_count": null,
      "outputs": []
    },
    {
      "cell_type": "markdown",
      "metadata": {},
      "source": [
        "# 시각화 - 종별 신체 측정값 분포"
      ],
      "id": "9bf39d98"
    },
    {
      "cell_type": "code",
      "metadata": {},
      "source": [
        "plt.figure(figsize=(12, 6))\n",
        "sns.pairplot(penguins, hue=\"species\")\n",
        "plt.show()"
      ],
      "id": "db74d44d",
      "execution_count": null,
      "outputs": []
    },
    {
      "cell_type": "markdown",
      "metadata": {},
      "source": [
        "# 3. 각 측정값별 최대/최소 값을 가진 종 확인"
      ],
      "id": "b203a869"
    },
    {
      "cell_type": "code",
      "metadata": {},
      "source": [
        "mean_stats = stats.xs('mean', axis=1, level=1)\n",
        "max_species = mean_stats.idxmax()\n",
        "max_values = mean_stats.max()\n",
        "min_species = mean_stats.idxmin()\n",
        "min_values = mean_stats.min()\n",
        "\n",
        "extreme_species = pd.DataFrame({\n",
        "    \"Max Species\": max_species,\n",
        "    \"Max Value\": max_values,\n",
        "    \"Min Species\": min_species,\n",
        "    \"Min Value\": min_values\n",
        "})\n",
        "\n",
        "print(\"\\n각 측정값별 최대/최소 값을 가진 종:\")\n",
        "print(extreme_species)"
      ],
      "id": "7bda3a31",
      "execution_count": null,
      "outputs": []
    },
    {
      "cell_type": "markdown",
      "metadata": {},
      "source": [
        "# 4. 서식지별, 성별, 종별 개체 수 집계"
      ],
      "id": "60129fd5"
    },
    {
      "cell_type": "code",
      "metadata": {},
      "source": [
        "result = penguins.groupby(['island', 'species', 'sex']).size().reset_index(name='count')\n",
        "print(\"\\n서식지, 종, 성별 별 개체 수:\")\n",
        "print(result)\n",
        "\n",
        "result2 = penguins.groupby(['island', 'species']).size().reset_index(name='count')\n",
        "print(\"\\n서식지와 종별 개체 수:\")\n",
        "print(result2)\n",
        "\n",
        "# 시각화 - 서식지 및 종별 개체 수\n",
        "plt.figure(figsize=(10, 6))\n",
        "sns.barplot(data=result2, x='island', y='count', hue='species')\n",
        "plt.title('서식지별 종 개체 수')\n",
        "plt.show()\n",
        "\n",
        "# 성별 개체 수 분포\n",
        "plt.figure(figsize=(10, 6))\n",
        "sns.countplot(data=penguins, x='species', hue='sex')\n",
        "plt.title('종별 성별 개체 수')\n",
        "plt.show()"
      ],
      "id": "707b12ad",
      "execution_count": null,
      "outputs": []
    }
  ],
  "metadata": {
    "kernelspec": {
      "name": "python3",
      "language": "python",
      "display_name": "Python 3 (ipykernel)",
      "path": "C:\\Users\\USER\\AppData\\Roaming\\Python\\share\\jupyter\\kernels\\python3"
    }
  },
  "nbformat": 4,
  "nbformat_minor": 5
}